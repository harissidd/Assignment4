{
 "cells": [
  {
   "cell_type": "code",
   "execution_count": 47,
   "metadata": {},
   "outputs": [
    {
     "name": "stdout",
     "output_type": "stream",
     "text": [
      "name   Haris\n",
      "fName  Zamir\n",
      "age  15\n",
      "city  karachi\n"
     ]
    }
   ],
   "source": [
    "person ={\n",
    "   \n",
    "        \"name \" : \"Haris\",\n",
    "        \"fName\" : \"Zamir\",\n",
    "        \"age\" : 15,\n",
    "       \"city\" : \"karachi\"\n",
    "    }\n",
    "for personn,persons in person.items():\n",
    "    print(str(personn) + \"  \" + str(persons))\n",
    "person[\"qualification\"] = \"\"\n",
    "person[\"qualification\"] = \"High Acedemic\"\n",
    "del person[\"qualification\"]"
   ]
  },
  {
   "cell_type": "code",
   "execution_count": null,
   "metadata": {},
   "outputs": [],
   "source": []
  },
  {
   "cell_type": "code",
   "execution_count": null,
   "metadata": {},
   "outputs": [],
   "source": []
  },
  {
   "cell_type": "code",
   "execution_count": null,
   "metadata": {},
   "outputs": [],
   "source": []
  },
  {
   "cell_type": "code",
   "execution_count": null,
   "metadata": {},
   "outputs": [],
   "source": []
  },
  {
   "cell_type": "code",
   "execution_count": null,
   "metadata": {},
   "outputs": [],
   "source": []
  }
 ],
 "metadata": {
  "kernelspec": {
   "display_name": "Python 3",
   "language": "python",
   "name": "python3"
  },
  "language_info": {
   "codemirror_mode": {
    "name": "ipython",
    "version": 3
   },
   "file_extension": ".py",
   "mimetype": "text/x-python",
   "name": "python",
   "nbconvert_exporter": "python",
   "pygments_lexer": "ipython3",
   "version": "3.7.4"
  }
 },
 "nbformat": 4,
 "nbformat_minor": 2
}
