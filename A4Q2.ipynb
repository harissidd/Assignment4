{
 "cells": [
  {
   "cell_type": "code",
   "execution_count": 12,
   "metadata": {},
   "outputs": [
    {
     "name": "stdout",
     "output_type": "stream",
     "text": [
      "{'Karachi', 'Mumbai', 'Newyork'}\n",
      "{'Country': 'Pakistan', 'Population': 160000, 'Fact': 'Never Sleep'}\n",
      "{'Country': 'USA', 'Population': 19000, 'Fact': 'Extreme Cold'}\n",
      "{'Country': 'India', 'Population': 3000000, 'Fact': 'poor city'}\n"
     ]
    }
   ],
   "source": [
    "cities = {\n",
    "0:{\n",
    "    \"Karachi\",\n",
    "    \"Newyork\",\n",
    "    \"Mumbai\"\n",
    "},\n",
    "1:{\n",
    "    \"Country\" : \"Pakistan\",\n",
    "    \"Population\" : 160000,\n",
    "    \"Fact\" : \"Never Sleep\"  \n",
    "},\n",
    "2:{\n",
    "    \"Country\" : \"USA\",\n",
    "    \"Population\" : 19000,\n",
    "    \"Fact\" : \"Extreme Cold\"  \n",
    "},\n",
    "3:{\n",
    "    \"Country\" : \"India\",\n",
    "    \"Population\" : 3000000,\n",
    "    \"Fact\" : \"poor city\"  \n",
    "}\n",
    "}\n",
    "print (cities[0])\n",
    "print (cities[1])\n",
    "print (cities[2])\n",
    "print (cities[3])"
   ]
  },
  {
   "cell_type": "code",
   "execution_count": null,
   "metadata": {},
   "outputs": [],
   "source": []
  }
 ],
 "metadata": {
  "kernelspec": {
   "display_name": "Python 3",
   "language": "python",
   "name": "python3"
  },
  "language_info": {
   "codemirror_mode": {
    "name": "ipython",
    "version": 3
   },
   "file_extension": ".py",
   "mimetype": "text/x-python",
   "name": "python",
   "nbconvert_exporter": "python",
   "pygments_lexer": "ipython3",
   "version": "3.7.4"
  }
 },
 "nbformat": 4,
 "nbformat_minor": 2
}
