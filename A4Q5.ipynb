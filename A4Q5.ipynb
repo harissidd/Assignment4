{
 "cells": [
  {
   "cell_type": "code",
   "execution_count": null,
   "metadata": {},
   "outputs": [],
   "source": [
    "import random\n",
    "ques = \"Enter any Guess between 1 to 30 \"\n",
    "randomNumber = random.randint(1,30)\n",
    "while True:\n",
    "    number = input(ques)\n",
    "    number = int(number)\n",
    "    if number > randomNumber:\n",
    "        print (\"Too high. Try again.\")\n",
    "        elif number < randomNumber:\n",
    "            print (\"Too low. Try again.\")\n",
    "            elif number == randomNumber:\n",
    "                break"
   ]
  },
  {
   "cell_type": "code",
   "execution_count": null,
   "metadata": {},
   "outputs": [],
   "source": []
  },
  {
   "cell_type": "code",
   "execution_count": null,
   "metadata": {},
   "outputs": [],
   "source": []
  }
 ],
 "metadata": {
  "kernelspec": {
   "display_name": "Python 3",
   "language": "python",
   "name": "python3"
  },
  "language_info": {
   "codemirror_mode": {
    "name": "ipython",
    "version": 3
   },
   "file_extension": ".py",
   "mimetype": "text/x-python",
   "name": "python",
   "nbconvert_exporter": "python",
   "pygments_lexer": "ipython3",
   "version": "3.7.4"
  }
 },
 "nbformat": 4,
 "nbformat_minor": 2
}
